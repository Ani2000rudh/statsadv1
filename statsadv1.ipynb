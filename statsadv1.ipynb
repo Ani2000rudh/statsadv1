{
 "cells": [
  {
   "cell_type": "code",
   "execution_count": 1,
   "id": "f0b95ceb-2e0b-4224-991e-e85fef721104",
   "metadata": {},
   "outputs": [
    {
     "data": {
      "text/plain": [
       "'probabily density function (PDF) is defined for continous random variable in x axis to gradient (derivative ) \\nof same random varible on cummilative density function in y axis'"
      ]
     },
     "execution_count": 1,
     "metadata": {},
     "output_type": "execute_result"
    }
   ],
   "source": [
    "#Q1. What is the Probability density function?\n",
    "\n",
    "\n",
    "'''probabily density function (PDF) is defined for continous random variable in x axis to gradient (derivative ) \n",
    "of same random varible on cummilative density function in y axis'''"
   ]
  },
  {
   "cell_type": "code",
   "execution_count": 2,
   "id": "acbe81ba-bbf4-41a5-8f66-79d6fc4d1c68",
   "metadata": {},
   "outputs": [
    {
     "data": {
      "text/plain": [
       "' BERNAULLI\\'s disrtribution\\n    BINOMIAL ____\"_____\\n    POISSION _____\"_____\\n    NORMAL _______\"_____\\n    UNIFORM_________\"____'"
      ]
     },
     "execution_count": 2,
     "metadata": {},
     "output_type": "execute_result"
    }
   ],
   "source": [
    "#Q2. What are the types of Probability distribution?\n",
    "\n",
    "''' BERNAULLI's disrtribution\n",
    "    BINOMIAL ____\"_____\n",
    "    POISSION _____\"_____\n",
    "    NORMAL _______\"_____\n",
    "    UNIFORM_________\"____'''"
   ]
  },
  {
   "cell_type": "code",
   "execution_count": 3,
   "id": "47d68e66-9832-41b2-b1be-d9f70afc3a19",
   "metadata": {},
   "outputs": [],
   "source": [
    "#Q3. Write a Python function to calculate the probability density function of a normal distribution withgiven mean and standard deviation at a given point.\n",
    "\n",
    "\n",
    "from scipy import stats\n",
    "\n",
    "def normal_pdf(x, mean, std):\n",
    "     return stats.norm.pdf(x, loc=mean, scale=std)\n",
    "    "
   ]
  },
  {
   "cell_type": "code",
   "execution_count": null,
   "id": "52aae35b-b7ba-4caa-bb98-f4826a92dab4",
   "metadata": {},
   "outputs": [],
   "source": [
    "Q4. What are the properties of Binomial distribution? Give two examples of events where binomial\n",
    "distribution can be applied.\n",
    "\n",
    "\n",
    "'''binomial distriburion is descrete random variable distribution,Probablity mass function\n",
    "it is the case of bernaulli with 'n' no of trials\n",
    "eg: tossing coin 1000 times.\n",
    "rolling dies 100 times etc'''"
   ]
  },
  {
   "cell_type": "code",
   "execution_count": 12,
   "id": "44521b7c-5994-4d11-931f-2cd3f1c9bb37",
   "metadata": {},
   "outputs": [
    {
     "data": {
      "image/png": "[encoded data removed]",
      "text/plain": [
       "<Figure size 640x480 with 1 Axes>"
      ]
     },
     "metadata": {},
     "output_type": "display_data"
    }
   ],
   "source": [
    "#Q5. Generate a random sample of size 1000 from a binomial distribution with probability of success 0.4and plot a histogram of the results using matplotlib.\n",
    "\n",
    "import numpy as np\n",
    "import matplotlib.pyplot as plt\n",
    "\n",
    "\n",
    "n = 10\n",
    "p = 0.4\n",
    "sample = np.random.binomial(n, p, size=1000)\n",
    "\n",
    "\n",
    "plt.hist(sample, bins=range(0, n+2), rwidth=0.8)\n",
    "plt.xlabel('Number of successes')\n",
    "plt.ylabel('Frequency')\n",
    "plt.title('Binomial Distribution (n=10, p=0.4)')\n",
    "plt.show()\n"
   ]
  },
  {
   "cell_type": "code",
   "execution_count": 13,
   "id": "31fc098d-098b-43f0-886d-a97be2abd2a7",
   "metadata": {},
   "outputs": [],
   "source": [
    "#Q6. Write a Python function to calculate the cumulative distribution function of a Poisson distributionwith given mean at a given point.\n",
    "\n",
    "import math\n",
    "\n",
    "def poisson_cdf(k, lamb):\n",
    "    cdf = 0.0\n",
    "    for i in range(k+1):\n",
    "        cdf += math.exp(-lamb)*(lamb**i)/math.factorial(i)\n",
    "    return cdf\n"
   ]
  },
  {
   "cell_type": "code",
   "execution_count": null,
   "id": "f843b734-a7b6-4ecf-8ea7-00a757a9717d",
   "metadata": {},
   "outputs": [],
   "source": [
    "#Q7. How Binomial distribution different from Poisson distribution?\n",
    "\n",
    "\n",
    "'''binomial                        |        poission\n",
    "\n",
    "it is the type of bernaulli with    it describes the event occuring between\n",
    "n no of trial                  some time period\n",
    "\n",
    "\n",
    "it is independent of time           it is _ve exponential distribution\n",
    "\n",
    "\n",
    "descrete                             descrete\n",
    "'''"
   ]
  },
  {
   "cell_type": "code",
   "execution_count": null,
   "id": "8b995260-3f40-4e29-9759-123cb1d38d38",
   "metadata": {},
   "outputs": [],
   "source": [
    "#Q8. Generate a random sample of size 1000 from a Poisson distribution with mean 5 and calculate the\n",
    "sample mean and variance."
   ]
  },
  {
   "cell_type": "code",
   "execution_count": 19,
   "id": "077e1e62-3acb-4d96-bf9a-eaa55134f654",
   "metadata": {},
   "outputs": [],
   "source": [
    "\n",
    "import numpy as np\n",
    "import matplotlib.pyplot as plt\n",
    "\n",
    "\n",
    "\n",
    "sample = np.random.poisson(size=1000,lam=5)"
   ]
  },
  {
   "cell_type": "code",
   "execution_count": 21,
   "id": "d38e299e-bf4d-42ee-b428-121b9b2f62f8",
   "metadata": {},
   "outputs": [
    {
     "data": {
      "text/plain": [
       "5.17"
      ]
     },
     "execution_count": 21,
     "metadata": {},
     "output_type": "execute_result"
    }
   ],
   "source": [
    "sample.mean()"
   ]
  },
  {
   "cell_type": "code",
   "execution_count": 22,
   "id": "e61d151a-0e73-4571-8e49-54aac127d195",
   "metadata": {},
   "outputs": [
    {
     "data": {
      "text/plain": [
       "5.0991"
      ]
     },
     "execution_count": 22,
     "metadata": {},
     "output_type": "execute_result"
    }
   ],
   "source": [
    "sample.var()"
   ]
  },
  {
   "cell_type": "code",
   "execution_count": 23,
   "id": "f36d49ef-c758-41ff-abc1-538a35eeda18",
   "metadata": {},
   "outputs": [
    {
     "data": {
      "text/plain": [
       "'binomial distribution: \\n    mean =np\\n    varience=npq     n=no of trials/occerences ,p=sucess, q= failure\\npoission distribution:\\n    mean =varience = lambda*t  lambda=expexted outcome,t=time'"
      ]
     },
     "execution_count": 23,
     "metadata": {},
     "output_type": "execute_result"
    }
   ],
   "source": [
    "#Q9. How mean and variance are related in Binomial distribution and Poisson distribution?\n",
    "\n",
    "\n",
    "'''binomial distribution: \n",
    "    mean =np\n",
    "    varience=npq     n=no of trials/occerences ,p=sucess, q= failure\n",
    "poission distribution:\n",
    "    mean =varience = lambda*t  lambda=expexted outcome,t=time'''\n",
    "    "
   ]
  },
  {
   "cell_type": "code",
   "execution_count": null,
   "id": "8ad4ac08-3e75-4213-bc29-319790319b24",
   "metadata": {},
   "outputs": [],
   "source": [
    "#Q10. In normal distribution with respect to mean position, where does the least frequent data appear?\n",
    "\n",
    "'''In a normal distribution, the least frequent data appears in the tails, which are the extreme ends '''"
   ]
  },
  {
   "cell_type": "code",
   "execution_count": null,
   "id": "4f93e576-3127-4fb3-9629-c0c1e87d78ad",
   "metadata": {},
   "outputs": [],
   "source": []
  },
  {
   "cell_type": "code",
   "execution_count": null,
   "id": "66ceeb06-22b4-475d-a65a-1e5758067061",
   "metadata": {},
   "outputs": [],
   "source": []
  },
  {
   "cell_type": "code",
   "execution_count": null,
   "id": "08d98fe9-c4af-43ca-904a-2e3fe4f91845",
   "metadata": {},
   "outputs": [],
   "source": []
  }
 ],
 "metadata": {
  "kernelspec": {
   "display_name": "Python 3 (ipykernel)",
   "language": "python",
   "name": "python3"
  },
  "language_info": {
   "codemirror_mode": {
    "name": "ipython",
    "version": 3
   },
   "file_extension": ".py",
   "mimetype": "text/x-python",
   "name": "python",
   "nbconvert_exporter": "python",
   "pygments_lexer": "ipython3",
   "version": "3.10.8"
  }
 },
 "nbformat": 4,
 "nbformat_minor": 5
}
